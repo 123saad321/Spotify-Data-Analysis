{
 "cells": [
  {
   "cell_type": "code",
   "execution_count": 1,
   "id": "ebbf3860",
   "metadata": {},
   "outputs": [],
   "source": [
    "import pandas as pd"
   ]
  },
  {
   "cell_type": "code",
   "execution_count": 2,
   "id": "f7107fde",
   "metadata": {},
   "outputs": [],
   "source": [
    "spotify_df = pd.read_csv(\"Spotify Dataset.csv\")"
   ]
  },
  {
   "cell_type": "code",
   "execution_count": 3,
   "id": "ad389874",
   "metadata": {},
   "outputs": [],
   "source": [
    "spotify_df = spotify_df.drop(columns=[\"Unnamed: 0\", \"track_id\"])"
   ]
  },
  {
   "cell_type": "code",
   "execution_count": 4,
   "id": "035497fd",
   "metadata": {},
   "outputs": [],
   "source": [
    "spotify_df = spotify_df.dropna(subset=[\"track_name\", \"artists\", \"track_genre\", \"popularity\"])"
   ]
  },
  {
   "cell_type": "code",
   "execution_count": 5,
   "id": "24134c14",
   "metadata": {},
   "outputs": [],
   "source": [
    "spotify_df = spotify_df[spotify_df[\"popularity\"] >= 50]"
   ]
  },
  {
   "cell_type": "code",
   "execution_count": 6,
   "id": "f4d94946",
   "metadata": {},
   "outputs": [],
   "source": [
    "spotify_df = spotify_df.reset_index(drop=True)"
   ]
  },
  {
   "cell_type": "code",
   "execution_count": 7,
   "id": "12f02ab9",
   "metadata": {},
   "outputs": [
    {
     "name": "stdout",
     "output_type": "stream",
     "text": [
      "✅ Cleaned Spotify dataset saved as cleaned_spotify.csv\n"
     ]
    }
   ],
   "source": [
    "spotify_df.to_csv(\"cleaned_spotify.csv\", index=False)\n",
    "print(\"✅ Cleaned Spotify dataset saved as cleaned_spotify.csv\")"
   ]
  },
  {
   "cell_type": "code",
   "execution_count": null,
   "id": "3a8efa2d",
   "metadata": {},
   "outputs": [],
   "source": []
  }
 ],
 "metadata": {
  "kernelspec": {
   "display_name": "Python 3 (ipykernel)",
   "language": "python",
   "name": "python3"
  },
  "language_info": {
   "codemirror_mode": {
    "name": "ipython",
    "version": 3
   },
   "file_extension": ".py",
   "mimetype": "text/x-python",
   "name": "python",
   "nbconvert_exporter": "python",
   "pygments_lexer": "ipython3",
   "version": "3.7.9"
  }
 },
 "nbformat": 4,
 "nbformat_minor": 5
}
